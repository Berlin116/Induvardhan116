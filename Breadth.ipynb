{
  "nbformat": 4,
  "nbformat_minor": 0,
  "metadata": {
    "colab": {
      "provenance": [],
      "authorship_tag": "ABX9TyM+aUDktDexkTegdnORF1EY",
      "include_colab_link": true
    },
    "kernelspec": {
      "name": "python3",
      "display_name": "Python 3"
    },
    "language_info": {
      "name": "python"
    }
  },
  "cells": [
    {
      "cell_type": "markdown",
      "metadata": {
        "id": "view-in-github",
        "colab_type": "text"
      },
      "source": [
        "<a href=\"https://colab.research.google.com/github/Induvardhan116/Induvardhan116/blob/AIML/Breadth.ipynb\" target=\"_parent\"><img src=\"https://colab.research.google.com/assets/colab-badge.svg\" alt=\"Open In Colab\"/></a>"
      ]
    },
    {
      "cell_type": "code",
      "source": [
        "#Breadth First\n",
        "from queue import Queue\n",
        "graph = {0: [1, 2,3],\n",
        "         1: [0,2],\n",
        "         2: [1,3,5],\n",
        "         3:[0,2,4],\n",
        "         4:[3,5,7],\n",
        "         5:[2,4,6,7],\n",
        "         6:[5,7],\n",
        "         7:[]}\n",
        "def bfs(graph,node):\n",
        "    visited = []\n",
        "    queue = Queue()\n",
        "    queue.put(node)\n",
        "    while not queue.empty():\n",
        "        s = queue.get()\n",
        "        if s not in visited:\n",
        "            visited.append(s)\n",
        "            for neighbour in graph[s]:\n",
        "                queue.put(neighbour)\n",
        "    return visited\n",
        "print(bfs(graph,1))"
      ],
      "metadata": {
        "colab": {
          "base_uri": "https://localhost:8080/"
        },
        "id": "p9RgYGM5N6yU",
        "outputId": "9bc31f3b-a066-4a09-c53a-8a30728e353b"
      },
      "execution_count": 19,
      "outputs": [
        {
          "output_type": "stream",
          "name": "stdout",
          "text": [
            "[1, 0, 2, 3, 5, 4, 6, 7]\n"
          ]
        }
      ]
    },
    {
      "cell_type": "code",
      "source": [
        "#A* Search\n",
        "from copy import deepcopy\n",
        "import numpy as np\n",
        "import time\n",
        "def bestsolution(state):\n",
        "  bestsol=np.array([],int).reshape(-1,9)\n",
        "  count=len(state)-1\n",
        "  while count!=-1:\n",
        "    bestsol=np.insert(bestsol,0,state[count]['puzzle'],0)\n",
        "    count=(state[count]['parent'])\n",
        "  return bestsol.reshaped(-1,3,3)"
      ],
      "metadata": {
        "id": "URfASM_FRBQK"
      },
      "execution_count": 20,
      "outputs": []
    },
    {
      "cell_type": "code",
      "source": [
        "# checks for the uniqueness of the iteration(it).\n",
        "def all(checkarray):\n",
        "    set=[]\n",
        "    for it in set:\n",
        "        for checkarray in it:\n",
        "            return 1\n",
        "        else:\n",
        "            return 0\n"
      ],
      "metadata": {
        "id": "YhiuYaVyUV5R"
      },
      "execution_count": 21,
      "outputs": []
    },
    {
      "cell_type": "code",
      "source": [
        "# number of misplaced tiles\n",
        "def misplaced_tiles(puzzle,goal):\n",
        "    mscost = np.sum(puzzle != goal) - 1\n",
        "    return mscost if mscost > 0 else 0\n",
        "\n",
        "\n",
        "def coordinates(puzzle):\n",
        "    pos = np.array(range(9))\n",
        "    for p, q in enumerate(puzzle):\n",
        "        pos[q] = p\n",
        "    return pos\n"
      ],
      "metadata": {
        "id": "l5HCop0zUbqE"
      },
      "execution_count": 22,
      "outputs": []
    }
  ]
}