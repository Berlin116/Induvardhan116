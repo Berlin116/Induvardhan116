{
  "nbformat": 4,
  "nbformat_minor": 0,
  "metadata": {
    "colab": {
      "provenance": [],
      "include_colab_link": true
    },
    "kernelspec": {
      "name": "python3",
      "display_name": "Python 3"
    },
    "language_info": {
      "name": "python"
    }
  },
  "cells": [
    {
      "cell_type": "markdown",
      "metadata": {
        "id": "view-in-github",
        "colab_type": "text"
      },
      "source": [
        "<a href=\"https://colab.research.google.com/github/Induvardhan116/Induvardhan116/blob/main/2303a52030_Assignment_2.ipynb\" target=\"_parent\"><img src=\"https://colab.research.google.com/assets/colab-badge.svg\" alt=\"Open In Colab\"/></a>"
      ]
    },
    {
      "cell_type": "code",
      "execution_count": null,
      "metadata": {
        "colab": {
          "base_uri": "https://localhost:8080/",
          "height": 524
        },
        "id": "vOsRaQRudSWe",
        "outputId": "92889986-f5c1-4599-bcc7-65c0166de863"
      },
      "outputs": [
        {
          "output_type": "stream",
          "name": "stdout",
          "text": [
            "bin edges: [1.3  1.88 2.46 3.04 3.62 4.2 ]\n",
            "count(density values): [0.38314176 0.         0.38314176 0.38314176 0.57471264]\n",
            "density values adjusted for bin width: [0.22222222 0.         0.22222222 0.22222222 0.33333333]\n"
          ]
        },
        {
          "output_type": "display_data",
          "data": {
            "text/plain": [
              "<Figure size 640x480 with 1 Axes>"
            ],
            "image/png": "[encoded data removed]"
          },
          "metadata": {}
        }
      ],
      "source": [
        "#Question-01\n",
        "import numpy as np\n",
        "import matplotlib.pyplot as plt\n",
        "#given dataset\n",
        "X=[1.3,1.5,2.6,2.6,3.2,3.9,4.2,3.7,3.10]\n",
        "#number of bins\n",
        "num_bin=5\n",
        "#compute the histogram\n",
        "counts,bin_edges=np.histogram(X,bins=num_bin,density=True)\n",
        "#calculate the width of eachbin\n",
        "bin_width=np.diff(bin_edges)\n",
        "#calculate the density of eachbin\n",
        "density=counts*bin_width\n",
        "#print the binedges,counts and density\n",
        "print(\"bin edges:\",bin_edges)\n",
        "print(\"count(density values):\",counts)\n",
        "print(\"density values adjusted for bin width:\",density)\n",
        "#plot the histogram\n",
        "plt.hist(X,bins=num_bin,density=True,edgecolor='black')\n",
        "plt.xlabel('Data')\n",
        "plt.ylabel('Density')\n",
        "plt.title('Histogram of density')\n",
        "plt.show()\n",
        "\n"
      ]
    },
    {
      "cell_type": "code",
      "source": [
        "#Question-02\n",
        "import numpy as np\n",
        "import matplotlib.pyplot as plt\n",
        "dependent_variable=[12,13,56,23,41,28,51]\n",
        "independent_variable=[51,63,37,88,33,72,81]\n",
        "#mean\n",
        "mean_x=np.mean(independent_variable)\n",
        "mean_y=np.mean(dependent_variable)\n",
        "print(\"mean of x:\",mean_x)\n",
        "print(\"mean of y:\",mean_y)\n",
        "#median\n",
        "median_x=np.median(independent_variable)\n",
        "median_y=np.median(dependent_variable)\n",
        "print(\"median of x:\",median_x)\n",
        "print(\"median of y:\",median_y)\n",
        "#mode\n",
        "from scipy import stats\n",
        "mode_x=stats.mode(independent_variable)\n",
        "mode_y=stats.mode(dependent_variable)\n",
        "print(\"mode of x:\",mode_x)\n",
        "print(\"mode of y:\",mode_y)\n",
        "#Variance\n",
        "variance_x=np.var(independent_variable)\n",
        "variance_y=np.var(dependent_variable)\n",
        "print(\"variance of x:\",variance_x)\n",
        "print(\"variance of y:\",variance_y)\n",
        "#Standard Deviation\n",
        "std_x=np.std(independent_variable)\n",
        "std_y=np.std(dependent_variable)\n",
        "print(\"standard deviation of x:\",std_x)\n",
        "print(\"standard deviation of y:\",std_y)\n",
        "#Range\n",
        "range_x=np.max(independent_variable)-np.min(independent_variable)\n",
        "range_y=np.max(dependent_variable)-np.min(dependent_variable)\n",
        "print(\"range of x:\",range_x)\n",
        "print(\"range of y:\",range_y)\n",
        "#InterQuartile(IQR)\n",
        "q1_x=np.percentile(independent_variable,25)\n",
        "q3_x=np.percentile(independent_variable,75)\n",
        "iqr_x=q3_x-q1_x\n",
        "print(\"interquartile range of x:\",iqr_x)\n",
        "q1_y=np.percentile(dependent_variable,25)\n",
        "q3_y=np.percentile(dependent_variable,75)\n",
        "iqr_y=q3_y-q1_y\n",
        "print(\"interquartile range of y:\",iqr_y)\n",
        "#Skewness\n",
        "skewness_x=stats.skew(independent_variable)\n",
        "skewness_y=stats.skew(dependent_variable)\n",
        "print(\"skewness of x:\",skewness_x)\n",
        "print(\"skewness of y:\",skewness_y)\n",
        "#Kurtosis of X and Y\n",
        "kurtosis_x=stats.kurtosis(independent_variable)\n",
        "kurtosis_y=stats.kurtosis(dependent_variable)\n",
        "print(\"kurtosis of x:\",kurtosis_x)\n",
        "print(\"kurtosis of y:\",kurtosis_y)"
      ],
      "metadata": {
        "colab": {
          "base_uri": "https://localhost:8080/"
        },
        "id": "kUNvGEAGoyPR",
        "outputId": "f2780120-cf59-438c-95a5-9dd3eb95dc16"
      },
      "execution_count": null,
      "outputs": [
        {
          "output_type": "stream",
          "name": "stdout",
          "text": [
            "mean of x: 60.714285714285715\n",
            "mean of y: 32.0\n",
            "median of x: 63.0\n",
            "median of y: 28.0\n",
            "mode of x: ModeResult(mode=33, count=1)\n",
            "mode of y: ModeResult(mode=12, count=1)\n",
            "variance of x: 387.6326530612245\n",
            "variance of y: 268.0\n",
            "standard deviation of x: 19.68838878784205\n",
            "standard deviation of y: 16.3707055437449\n",
            "range of x: 55\n",
            "range of y: 44\n",
            "interquartile range of x: 32.5\n",
            "interquartile range of y: 28.0\n",
            "skewness of x: -0.10160487226954186\n",
            "skewness of y: 0.18755223867066048\n",
            "kurtosis of x: -1.4265295827972655\n",
            "kurtosis of y: -1.47684021258314\n"
          ]
        }
      ]
    },
    {
      "cell_type": "code",
      "source": [
        "#Question-03\n",
        "import numpy as np\n",
        "import matplotlib.pyplot as plt\n",
        "X=[1.3,1.5,2.6,2.6,3.2,3.9,4.2,3.7,3.10]\n",
        "#mean\n",
        "mean_x=np.mean(X)\n",
        "print(\"mean of x:\",mean_x)\n",
        "#Median\n",
        "median_x=np.median(X)\n",
        "print(\"median of x:\",median_x)\n",
        "#Mode\n",
        "from scipy import stats\n",
        "mode_x=stats.mode(X)\n",
        "print(\"mode of x:\",mode_x)\n",
        "#Variance\n",
        "variance_x=np.var(X)\n",
        "print(\"variance of x:\",variance_x)\n",
        "#Standard Deviation\n",
        "std_x=np.std(X)\n",
        "print(\"standard deviation of x:\",std_x)\n",
        "#Range\n",
        "range_x=np.max(X)-np.min(X)\n",
        "print(\"range of x:\",range_x)\n",
        "#InterQuatile(IQR)\n",
        "q1_x=np.percentile(X,25)\n",
        "q3_x=np.percentile(X,75)\n",
        "iqr_x=q3_x-q1_x\n",
        "print(\"interquartile range of x:\",iqr_x)\n",
        "#Skewness\n",
        "skewness_x=stats.skew(X)\n",
        "print(\"skewness of x:\",skewness_x)\n",
        "#Kurtosis\n",
        "kurtosis_x=stats.kurtosis(X)\n",
        "print(\"kurtosis of x:\",kurtosis_x)"
      ],
      "metadata": {
        "colab": {
          "base_uri": "https://localhost:8080/"
        },
        "id": "gslcAdmhryuX",
        "outputId": "6f2b5008-4e0e-438c-b79a-f7fc254c5c9a"
      },
      "execution_count": null,
      "outputs": [
        {
          "output_type": "stream",
          "name": "stdout",
          "text": [
            "mean of x: 2.9000000000000004\n",
            "median of x: 3.1\n",
            "mode of x: ModeResult(mode=2.6, count=2)\n",
            "variance of x: 0.9066666666666667\n",
            "standard deviation of x: 0.9521904571390467\n",
            "range of x: 2.9000000000000004\n",
            "interquartile range of x: 1.1\n",
            "skewness of x: -0.40541197285737496\n",
            "kurtosis of x: -1.0148680795847747\n"
          ]
        }
      ]
    }
  ]
}