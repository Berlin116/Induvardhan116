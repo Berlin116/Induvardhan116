{
  "nbformat": 4,
  "nbformat_minor": 0,
  "metadata": {
    "colab": {
      "provenance": [],
      "authorship_tag": "ABX9TyNvgZd0As8c53QkRYuYSxex",
      "include_colab_link": true
    },
    "kernelspec": {
      "name": "python3",
      "display_name": "Python 3"
    },
    "language_info": {
      "name": "python"
    }
  },
  "cells": [
    {
      "cell_type": "markdown",
      "metadata": {
        "id": "view-in-github",
        "colab_type": "text"
      },
      "source": [
        "<a href=\"https://colab.research.google.com/github/Induvardhan116/Induvardhan116/blob/AIML/Breadth1.ipynb\" target=\"_parent\"><img src=\"https://colab.research.google.com/assets/colab-badge.svg\" alt=\"Open In Colab\"/></a>"
      ]
    },
    {
      "cell_type": "code",
      "source": [
        "from queue import Queue\n",
        "graph = {0: [1, 2,3],\n",
        "         1: [0,2],\n",
        "         2: [1,3,5],\n",
        "         3:[0,2,4],\n",
        "         4:[3,5,7],\n",
        "         5:[2,4,6,7],\n",
        "         6:[5,7],\n",
        "         7:[]}\n",
        "def dfs(graph,node,visited):\n",
        "    if node not in visited:\n",
        "        visited.append(node)\n",
        "        for n in graph[node]:\n",
        "            dfs(graph,n,visited)\n",
        "    return visited\n",
        "visited = dfs(graph,0,[])\n",
        "print(visited)"
      ],
      "metadata": {
        "colab": {
          "base_uri": "https://localhost:8080/"
        },
        "id": "p9RgYGM5N6yU",
        "outputId": "4b739dcf-cf81-4e94-b9cb-bc6f8897c986"
      },
      "execution_count": 9,
      "outputs": [
        {
          "output_type": "stream",
          "name": "stdout",
          "text": [
            "[0, 1, 2, 3, 4, 5, 6, 7]\n"
          ]
        }
      ]
    },
    {
      "cell_type": "code",
      "source": [
        "from copy import deepcopy\n",
        "import numpy as np\n",
        "import time\n",
        "def bestsolution(state):\n",
        "  bestsol=np.array([],int).reshape(-1,9)\n",
        "  count=len(state)-1\n",
        "  while count !=-1:\n",
        "    bestsol=np.insert(bestsol,0,state[count]['puzzle'],0)\n",
        "    count=(state[count]['parent'])\n",
        "  return bestsol.reshape(-1,3,3)"
      ],
      "metadata": {
        "id": "URfASM_FRBQK"
      },
      "execution_count": 14,
      "outputs": []
    }
  ]
}