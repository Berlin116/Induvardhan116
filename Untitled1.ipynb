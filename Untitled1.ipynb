{
  "nbformat": 4,
  "nbformat_minor": 0,
  "metadata": {
    "colab": {
      "provenance": [],
      "authorship_tag": "ABX9TyMI2e8uM5iMxaYgLORoORvW",
      "include_colab_link": true
    },
    "kernelspec": {
      "name": "python3",
      "display_name": "Python 3"
    },
    "language_info": {
      "name": "python"
    }
  },
  "cells": [
    {
      "cell_type": "markdown",
      "metadata": {
        "id": "view-in-github",
        "colab_type": "text"
      },
      "source": [
        "<a href=\"https://colab.research.google.com/github/Induvardhan116/Induvardhan116/blob/SML/Untitled1.ipynb\" target=\"_parent\"><img src=\"https://colab.research.google.com/assets/colab-badge.svg\" alt=\"Open In Colab\"/></a>"
      ]
    },
    {
      "cell_type": "markdown",
      "source": [
        "#                                            Lab Assignment-3\n",
        "\n",
        "---\n",
        "\n"
      ],
      "metadata": {
        "id": "dbe8YLZZ7RfN"
      }
    },
    {
      "cell_type": "markdown",
      "source": [
        "#    2303A52030"
      ],
      "metadata": {
        "id": "FuLmis3u7Zqb"
      }
    },
    {
      "cell_type": "code",
      "source": [
        "#maximumlikelihoodmethod\n",
        "#definethedatasetx\n",
        "#step1:countthenumberohfheads(1s)andtails(0s)\n",
        "X={1,0,1,1,0,1,0,1,1,0}\n",
        "num_heads=sum(X)\n",
        "num_tails=len(X)-num_heads\n",
        "#step:2calculatethemaximumlikelihoodestimateforp p_mle=num_heads/len(X)\n",
        "p_mle=num_heads/len(X)\n",
        "#step3:displaytheresults\n",
        "p_mle"
      ],
      "metadata": {
        "colab": {
          "base_uri": "https://localhost:8080/"
        },
        "id": "IPAjWUWt7eSp",
        "outputId": "4c66201c-f3f0-4dc7-a77d-f77478f92940"
      },
      "execution_count": 3,
      "outputs": [
        {
          "output_type": "execute_result",
          "data": {
            "text/plain": [
              "0.5"
            ]
          },
          "metadata": {},
          "execution_count": 3
        }
      ]
    },
    {
      "cell_type": "code",
      "source": [
        "# Step 1: Import necessary libraries\n",
        "import numpy as np\n",
        "\n",
        "# Step 2: Define the dataset X\n",
        "X = np.array([1, 0, 1, 1, 0, 1, 0, 1, 1, 0])\n",
        "\n",
        "# Step 3: Define a function to calculate the log-likelihood\n",
        "def log_likelihood(p, X):\n",
        "    return np.sum(X * np.log(p) + (1 - X) * np.log(1 - p))\n",
        "\n",
        "# Step 4: Calculate log-likelihood for p = 0.50, 0.75, 0.80\n",
        "p_values = [0.50, 0.75, 0.80]\n",
        "log_likelihood_values = {p: log_likelihood(p, X) for p in p_values}\n",
        "\n",
        "# Display the results\n",
        "print(log_likelihood_values)"
      ],
      "metadata": {
        "colab": {
          "base_uri": "https://localhost:8080/"
        },
        "id": "QULphD1F-g1p",
        "outputId": "173896bf-5452-448a-a1ae-30a703918fca"
      },
      "execution_count": 4,
      "outputs": [
        {
          "output_type": "stream",
          "name": "stdout",
          "text": [
            "{0.5: -6.931471805599453, 0.75: -7.271269879190248, 0.8: -7.77661295762166}\n"
          ]
        }
      ]
    },
    {
      "cell_type": "code",
      "source": [
        "#3.Giventhefollowingdataset:X={2.3,2.5,3.6,2.8,3.1,2.9,3.2,2.7,2.\n",
        "#Step1:Importnecessarylibraries\n",
        "import numpy as np\n",
        "import matplotlib.pyplot as plt\n",
        "#Step2:DefinethedatasetX\n",
        "np.array([2.3, 2.5, 3.6, 2.8, 3.1, 2.9, 3.2, 2.7, 2.8, 3.0])\n",
        "#Step3:Plotthehistogramwith5binsanddensity=True\n",
        "plt.hist(X,bins=5,density=True,edgecolor='black') #Step4:Addtitlesandlabelstotheplot\n",
        "plt.title(\"Histogramwith5BinsandDensity\")\n",
        "plt.xlabel(\"Value\")\n",
        "plt.ylabel(\"Density\")\n",
        "#Step5:Displaytheplot\n",
        "plt.show()"
      ],
      "metadata": {
        "colab": {
          "base_uri": "https://localhost:8080/",
          "height": 472
        },
        "id": "c1mgP6vG-ii5",
        "outputId": "186e4a87-9dd2-4d5a-8c81-aab79a2a5b84"
      },
      "execution_count": 5,
      "outputs": [
        {
          "output_type": "display_data",
          "data": {
            "text/plain": [
              "<Figure size 640x480 with 1 Axes>"
            ],
            "image/png": "[encoded data removed]"
          },
          "metadata": {}
        }
      ]
    }
  ]
}